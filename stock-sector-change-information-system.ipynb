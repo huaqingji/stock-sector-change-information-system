{
 "cells": [
  {
   "cell_type": "markdown",
   "metadata": {},
   "source": [
    "# Step 1"
   ]
  },
  {
   "cell_type": "code",
   "execution_count": 1,
   "metadata": {
    "collapsed": true
   },
   "outputs": [],
   "source": [
    "# Write a program that grabs sector change data from google finance at the end of each day\n",
    "# Start collecting daily data by running this function after the market close every day\n",
    "# And save the JSON object somewhere - in a file perhaps"
   ]
  },
  {
   "cell_type": "code",
   "execution_count": 2,
   "metadata": {},
   "outputs": [],
   "source": [
    "def google_finance_sectors():\n",
    "\n",
    "    import requests\n",
    "    import bs4\n",
    "    import json\n",
    "\n",
    "    response = requests.get('https://www.google.com/finance')\n",
    "    soup = bs4.BeautifulSoup(response.content, 'lxml')\n",
    "    sector_dict = {}\n",
    "    raw_data = soup.find('table', width=\"100%\", cellpadding=0, cellspacing=0)\n",
    "    # sector_change\n",
    "    sector_change = []\n",
    "    for _ in raw_data.find_all('span'):\n",
    "        sector_change.append(_.get_text().rstrip('%').lstrip('+'))\n",
    "    # url of the sector and other imformation\n",
    "    i = 0\n",
    "    for sector in raw_data.find_all('a'):\n",
    "        url = 'https://www.google.com' + sector.get('href')\n",
    "        sector_response = requests.get(url)\n",
    "        sector_soup = bs4.BeautifulSoup(sector_response.content, 'lxml')\n",
    "        # sector_name\n",
    "        sector_name = sector_soup.find('h3').get_text().strip()\n",
    "        sector_dict[sector_name] = {}\n",
    "        # sector_change\n",
    "        sector_dict[sector_name]['sector_change'] = float(sector_change[i])\n",
    "        i += 1\n",
    "        #top_gainer & top_loser & top_mostactive\n",
    "        topmovers_data = sector_soup.find('table', {\"class\": \"topmovers\"})\n",
    "        topmovers_data_change = []\n",
    "        for _ in topmovers_data.find_all('span'):\n",
    "            if '%' in _.get_text():\n",
    "                topmovers_data_change.append(\n",
    "                    _.get_text().strip('()').rstrip('%').lstrip('+'))\n",
    "        topmovers_data_name = []\n",
    "        for _ in topmovers_data.find_all('a'):\n",
    "            topmovers_data_name.append(_.get_text())\n",
    "        sector_dict[sector_name]['top_gainer'] = {}\n",
    "        sector_dict[sector_name]['top_loser'] = {}\n",
    "        sector_dict[sector_name]['top_mostactive'] = {}\n",
    "        if len(topmovers_data_change) == 15:\n",
    "            gainer_stock = topmovers_data_name[0]\n",
    "            gainer_stock_change = topmovers_data_change[0]\n",
    "            loser_stock = topmovers_data_name[10]\n",
    "            loser_stock_change = topmovers_data_change[5]\n",
    "            active_stock = topmovers_data_name[20]\n",
    "            active_stock_change = topmovers_data_change[10]\n",
    "            sector_dict[sector_name]['top_gainer'][\n",
    "                'stock_change'] = float(gainer_stock_change)\n",
    "            sector_dict[sector_name]['top_loser'][\n",
    "                'stock_change'] = float(loser_stock_change)\n",
    "            sector_dict[sector_name]['top_mostactive'][\n",
    "                'stock_change'] = float(active_stock_change)\n",
    "        elif 'Gainers' in topmovers_data.find('b').get_text():\n",
    "            gainer_stock = topmovers_data_name[0]\n",
    "            gainer_stock_change = topmovers_data_change[0]\n",
    "            loser_stock = ''\n",
    "            loser_stock_change = None\n",
    "            active_stock = topmovers_data_name[10]\n",
    "            active_stock_change = topmovers_data_change[5]\n",
    "            sector_dict[sector_name]['top_gainer'][\n",
    "                'stock_change'] = float(gainer_stock_change)\n",
    "            sector_dict[sector_name]['top_loser'][\n",
    "                'stock_change'] = loser_stock_change\n",
    "            sector_dict[sector_name]['top_mostactive'][\n",
    "                'stock_change'] = float(active_stock_change)\n",
    "        else:\n",
    "            gainer_stock = ''\n",
    "            gainer_stock_change = None\n",
    "            loser_stock = topmovers_data_name[0]\n",
    "            loser_stock_change = topmovers_data_change[0]\n",
    "            active_stock = topmovers_data_name[10]\n",
    "            active_stock_change = topmovers_data_change[5]\n",
    "            sector_dict[sector_name]['top_gainer'][\n",
    "                'stock_change'] = gainer_stock_change\n",
    "            sector_dict[sector_name]['top_loser'][\n",
    "                'stock_change'] = float(loser_stock_change)\n",
    "            sector_dict[sector_name]['top_mostactive'][\n",
    "                'stock_change'] = float(active_stock_change)\n",
    "\n",
    "        sector_dict[sector_name]['top_gainer']['stock'] = gainer_stock\n",
    "        sector_dict[sector_name]['top_loser']['stock'] = loser_stock\n",
    "        sector_dict[sector_name]['top_mostactive']['stock'] = active_stock\n",
    "\n",
    "    return json.dumps(sector_dict)"
   ]
  },
  {
   "cell_type": "code",
   "execution_count": 3,
   "metadata": {},
   "outputs": [
    {
     "data": {
      "text/plain": [
       "'{\"Financials\": {\"top_mostactive\": {\"stock_change\": 0.73, \"stock\": \"SPDR S&P 500 ETF Trust\"}, \"top_loser\": {\"stock_change\": -9.01, \"stock\": \"Banco Santander Brasil SA\"}, \"sector_change\": 0.88, \"top_gainer\": {\"stock_change\": 7.6, \"stock\": \"German American Bancorp\"}}, \"Healthcare\": {\"top_mostactive\": {\"stock_change\": 0.45, \"stock\": \"UnitedHealth Group Inc\"}, \"top_loser\": {\"stock_change\": -4.81, \"stock\": \"CTI BioPharma Corp\"}, \"sector_change\": -0.1, \"top_gainer\": {\"stock_change\": 11.29, \"stock\": \"Omeros Corporation\"}}, \"Telecommunications Services\": {\"top_mostactive\": {\"stock_change\": 0.17, \"stock\": \"AT&T Inc.\"}, \"top_loser\": {\"stock_change\": -4.06, \"stock\": \"Partner Communications Co\"}, \"sector_change\": -0.03, \"top_gainer\": {\"stock_change\": 1.77, \"stock\": \"Mobil\\'nye Telesistemy PAO\"}}, \"Industrials\": {\"top_mostactive\": {\"stock_change\": 0.61, \"stock\": \"General Electric Company\"}, \"top_loser\": {\"stock_change\": -5.72, \"stock\": \"FactSet Research Systems\"}, \"sector_change\": 0.83, \"top_gainer\": {\"stock_change\": 633.43, \"stock\": \"LML Payment Systems, Inc.\"}}, \"Cyclical Consumer Goods & Services\": {\"top_mostactive\": {\"stock_change\": 2.68, \"stock\": \"Tesla Inc\"}, \"top_loser\": {\"stock_change\": -3.46, \"stock\": \"Fred\\'s, Inc.\"}, \"sector_change\": 0.77, \"top_gainer\": {\"stock_change\": 19.83, \"stock\": \"Sears Holdings Corp\"}}, \"Non-Cyclical Consumer Goods & Services\": {\"top_mostactive\": {\"stock_change\": 0.3, \"stock\": \"Procter & Gamble Co\"}, \"top_loser\": {\"stock_change\": -10.87, \"stock\": \"StoneMor Partners L.P.\"}, \"sector_change\": 0.52, \"top_gainer\": {\"stock_change\": null, \"stock\": \"\"}}, \"Utilities\": {\"top_mostactive\": {\"stock_change\": -0.41, \"stock\": \"Southern Co\"}, \"top_loser\": {\"stock_change\": -2.41, \"stock\": \"Cia Energetica de Minas\"}, \"sector_change\": 0.05, \"top_gainer\": {\"stock_change\": 5.69, \"stock\": \"MGE Energy, Inc.\"}}, \"Energy\": {\"top_mostactive\": {\"stock_change\": 0.73, \"stock\": \"Exxon Mobil Corporation\"}, \"top_loser\": {\"stock_change\": -6.22, \"stock\": \"Gulf Island Fabrication\"}, \"sector_change\": 1.03, \"top_gainer\": {\"stock_change\": 9.11, \"stock\": \"Broadwind Energy Inc.\"}}, \"Basic Materials\": {\"top_mostactive\": {\"stock_change\": 1.53, \"stock\": \"Dow Chemical Co\"}, \"top_loser\": {\"stock_change\": -6.92, \"stock\": \"Goldcorp Inc. (USA)\"}, \"sector_change\": 0.84, \"top_gainer\": {\"stock_change\": 7.53, \"stock\": \"Core Molding Tech., Inc.\"}}, \"Technology\": {\"top_mostactive\": {\"stock_change\": 2.07, \"stock\": \"Apple Inc.\"}, \"top_loser\": {\"stock_change\": -5.02, \"stock\": \"SYNNEX Corporation\"}, \"sector_change\": 0.62, \"top_gainer\": {\"stock_change\": 5.22, \"stock\": \"Red Hat Inc\"}}}'"
      ]
     },
     "execution_count": 3,
     "metadata": {},
     "output_type": "execute_result"
    }
   ],
   "source": [
    "google_finance_sectors()"
   ]
  },
  {
   "cell_type": "markdown",
   "metadata": {},
   "source": [
    "# Step 2"
   ]
  },
  {
   "cell_type": "code",
   "execution_count": 4,
   "metadata": {},
   "outputs": [
    {
     "data": {
      "text/plain": [
       "<pymongo.results.InsertOneResult at 0x1082845a0>"
      ]
     },
     "execution_count": 4,
     "metadata": {},
     "output_type": "execute_result"
    }
   ],
   "source": [
    "# Design a MongoDB collection that stores the data\n",
    "# Only running this at the very begining\n",
    "from pymongo import MongoClient\n",
    "import datetime\n",
    "import json\n",
    "\n",
    "client = MongoClient()\n",
    "sectorsCollection = client.google_finance.google_finance_sectors\n",
    "#sectorsCollection.delete_many({})\n",
    "date = str(datetime.date.today())\n",
    "data = json.loads(google_finance_sectors())\n",
    "document = {\"date\": date}\n",
    "for key in data:\n",
    "    document[key] = data[key]\n",
    "# create when first insert\n",
    "sectorsCollection.insert_one(document)"
   ]
  },
  {
   "cell_type": "code",
   "execution_count": 5,
   "metadata": {},
   "outputs": [],
   "source": [
    "# And write a function that updates the collection as new data arrives\n",
    "# You can run this function at any time you want\n",
    "\n",
    "\n",
    "def update_collection():\n",
    "    from pymongo import MongoClient\n",
    "    import datetime\n",
    "    import json\n",
    "\n",
    "    client = MongoClient()\n",
    "    sectorsCollection = client.google_finance.google_finance_sectors\n",
    "    new_date = str(datetime.date.today())\n",
    "    new_data = json.loads(google_finance_sectors())\n",
    "    new_document = {\"date\": new_date}\n",
    "    for key in new_data:\n",
    "        new_document[key] = new_data[key]\n",
    "    if not sectorsCollection.find_one({\"date\": new_date}):\n",
    "        sectorsCollection.insert_one(new_document)"
   ]
  },
  {
   "cell_type": "code",
   "execution_count": 6,
   "metadata": {},
   "outputs": [
    {
     "name": "stdout",
     "output_type": "stream",
     "text": [
      "{'date': '2017-03-28', 'Non-Cyclical Consumer Goods & Services': {'top_mostactive': {'stock_change': 0.3, 'stock': 'Procter & Gamble Co'}, 'sector_change': 0.52, 'top_loser': {'stock_change': -10.87, 'stock': 'StoneMor Partners L.P.'}, 'top_gainer': {'stock_change': None, 'stock': ''}}, 'Energy': {'top_mostactive': {'stock_change': 0.73, 'stock': 'Exxon Mobil Corporation'}, 'sector_change': 1.03, 'top_loser': {'stock_change': -6.22, 'stock': 'Gulf Island Fabrication'}, 'top_gainer': {'stock_change': 9.11, 'stock': 'Broadwind Energy Inc.'}}, '_id': ObjectId('58daf32a91c07638c3eb1642'), 'Utilities': {'top_mostactive': {'stock_change': -0.41, 'stock': 'Southern Co'}, 'sector_change': 0.05, 'top_loser': {'stock_change': -2.41, 'stock': 'Cia Energetica de Minas'}, 'top_gainer': {'stock_change': 5.69, 'stock': 'MGE Energy, Inc.'}}, 'Financials': {'top_mostactive': {'stock_change': 0.73, 'stock': 'SPDR S&P 500 ETF Trust'}, 'sector_change': 0.88, 'top_loser': {'stock_change': -9.01, 'stock': 'Banco Santander Brasil SA'}, 'top_gainer': {'stock_change': 7.6, 'stock': 'German American Bancorp'}}, 'Healthcare': {'top_mostactive': {'stock_change': 0.45, 'stock': 'UnitedHealth Group Inc'}, 'sector_change': -0.1, 'top_loser': {'stock_change': -4.81, 'stock': 'CTI BioPharma Corp'}, 'top_gainer': {'stock_change': 11.29, 'stock': 'Omeros Corporation'}}, 'Telecommunications Services': {'top_mostactive': {'stock_change': 0.17, 'stock': 'AT&T Inc.'}, 'sector_change': -0.03, 'top_loser': {'stock_change': -4.06, 'stock': 'Partner Communications Co'}, 'top_gainer': {'stock_change': 1.77, 'stock': \"Mobil'nye Telesistemy PAO\"}}, 'Industrials': {'top_mostactive': {'stock_change': 0.61, 'stock': 'General Electric Company'}, 'sector_change': 0.83, 'top_loser': {'stock_change': -5.72, 'stock': 'FactSet Research Systems'}, 'top_gainer': {'stock_change': 633.43, 'stock': 'LML Payment Systems, Inc.'}}, 'Cyclical Consumer Goods & Services': {'top_mostactive': {'stock_change': 2.68, 'stock': 'Tesla Inc'}, 'sector_change': 0.77, 'top_loser': {'stock_change': -3.46, 'stock': \"Fred's, Inc.\"}, 'top_gainer': {'stock_change': 19.83, 'stock': 'Sears Holdings Corp'}}, 'Basic Materials': {'top_mostactive': {'stock_change': 1.53, 'stock': 'Dow Chemical Co'}, 'sector_change': 0.84, 'top_loser': {'stock_change': -6.92, 'stock': 'Goldcorp Inc. (USA)'}, 'top_gainer': {'stock_change': 7.53, 'stock': 'Core Molding Tech., Inc.'}}, 'Technology': {'top_mostactive': {'stock_change': 2.07, 'stock': 'Apple Inc.'}, 'sector_change': 0.62, 'top_loser': {'stock_change': -5.02, 'stock': 'SYNNEX Corporation'}, 'top_gainer': {'stock_change': 5.22, 'stock': 'Red Hat Inc'}}}\n"
     ]
    }
   ],
   "source": [
    "update_collection()\n",
    "for _ in sectorsCollection.find():\n",
    "    print(_)"
   ]
  },
  {
   "cell_type": "markdown",
   "metadata": {
    "collapsed": true
   },
   "source": [
    "# Step 3"
   ]
  },
  {
   "cell_type": "code",
   "execution_count": 7,
   "metadata": {
    "collapsed": true
   },
   "outputs": [],
   "source": [
    "# Design an interface object for your collection\n",
    "# Answer the following nine questions"
   ]
  },
  {
   "cell_type": "code",
   "execution_count": 8,
   "metadata": {
    "code_folding": []
   },
   "outputs": [],
   "source": [
    "class google_finance_sectors_interface():\n",
    "\n",
    "    def __init__(self):\n",
    "        from pymongo import MongoClient\n",
    "        self._collection = MongoClient().google_finance.google_finance_sectors\n",
    "\n",
    "    # 1.Which sector has had the greatest move on a given date\n",
    "    def sector_greatest_move_given_date(self, given_date):\n",
    "        data = self._collection.find_one({\"date\": given_date})\n",
    "        max_change = 0\n",
    "        for key in data:\n",
    "            if key == \"date\":\n",
    "                pass\n",
    "            elif key == '_id':\n",
    "                pass\n",
    "            else:\n",
    "                if max_change < data[key]['sector_change']:\n",
    "                    max_change = data[key]['sector_change']\n",
    "                    max_sector = key\n",
    "        return max_sector, max_change\n",
    "\n",
    "    # 2.Which sector has had the greatest move ever\n",
    "    def sector_greatest_move_ever(self):\n",
    "        max_change_ever = 0\n",
    "        for doc in self._collection.find():\n",
    "            date = doc[\"date\"]\n",
    "            max_sector, max_change = self.sector_greatest_move_given_date(date)\n",
    "            if max_change_ever < max_change:\n",
    "                max_change_ever = max_change\n",
    "                max_sector_ever = max_sector\n",
    "                max_date_ever = date\n",
    "        return max_sector_ever, max_change_ever, max_date_ever\n",
    "\n",
    "    # 3.Which stock has had the greatest move on a given date\n",
    "    def stock_greatest_move_given_date(self, given_date):\n",
    "        data = self._collection.find_one({\"date\": given_date})\n",
    "        max_change = 0\n",
    "        for key in data:\n",
    "            if key == \"date\":\n",
    "                pass\n",
    "            elif key == '_id':\n",
    "                pass\n",
    "            else:\n",
    "                if data[key]['top_gainer']['stock_change']:\n",
    "                    if max_change < data[key]['top_gainer']['stock_change']:\n",
    "                        max_change = data[key]['top_gainer']['stock_change']\n",
    "                        max_stock = data[key]['top_gainer']['stock']\n",
    "        return max_stock, max_change\n",
    "    \n",
    "    # 4.Which stock has had the greatest move ever\n",
    "    def stock_greatest_move_ever(self):\n",
    "        max_change_ever = 0\n",
    "        for doc in self._collection.find():\n",
    "            date = doc[\"date\"]\n",
    "            max_stock, max_change = self.stock_greatest_move_given_date(date)\n",
    "            if max_change_ever < max_change:\n",
    "                max_change_ever = max_change\n",
    "                max_stock_ever = max_stock\n",
    "                max_date_ever = date\n",
    "        return max_stock_ever, max_change_ever, max_date_ever\n",
    "\n",
    "    # 5.Return a list of (date, change) tuples for a given sector\n",
    "    def sector_history(self, given_sector):\n",
    "        sector_list = []\n",
    "        for doc in self._collection.find():\n",
    "            date = doc[\"date\"]\n",
    "            change = doc[given_sector]['sector_change']\n",
    "            sector_list.append((date, change))\n",
    "        return sector_list\n",
    "\n",
    "    # 6.Which stock has had the greatest loss on a given date\n",
    "    def stock_greatest_loss_given_date(self, given_date):\n",
    "        data = self._collection.find_one({\"date\": given_date})\n",
    "        max_change = 0\n",
    "        for key in data:\n",
    "            if key == \"date\":\n",
    "                pass\n",
    "            elif key == '_id':\n",
    "                pass\n",
    "            else:\n",
    "                if data[key]['top_loser']['stock_change']:\n",
    "                    if max_change > data[key]['top_loser']['stock_change']:\n",
    "                        max_change = data[key]['top_loser']['stock_change']\n",
    "                        max_stock = data[key]['top_loser']['stock']\n",
    "        return max_stock, max_change\n",
    "\n",
    "    # 7.Which stock has had the greatest loss ever\n",
    "    def stock_greatest_loss_ever(self):\n",
    "        max_change_ever = 0\n",
    "        for doc in self._collection.find():\n",
    "            date = doc[\"date\"]\n",
    "            max_stock, max_change = self.stock_greatest_loss_given_date(date)\n",
    "            if max_change_ever > max_change:\n",
    "                max_change_ever = max_change\n",
    "                max_stock_ever = max_stock\n",
    "                max_date_ever = date\n",
    "        return max_stock_ever, max_change_ever, max_date_ever\n",
    "\n",
    "    # 8.Which stock has had the greatest move on a given date\n",
    "    def stock_mostactive_given_date(self, given_date):\n",
    "        data = self._collection.find_one({\"date\": given_date})\n",
    "        max_change = 0\n",
    "        for key in data:\n",
    "            if key == \"date\":\n",
    "                pass\n",
    "            elif key == '_id':\n",
    "                pass\n",
    "            else:\n",
    "                if data[key]['top_mostactive']['stock_change']:\n",
    "                    if max_change < data[key]['top_mostactive']['stock_change']:\n",
    "                        max_change = data[key][\n",
    "                            'top_mostactive']['stock_change']\n",
    "                        max_stock = data[key]['top_mostactive']['stock']\n",
    "        return max_stock, max_change\n",
    "\n",
    "    # 9.Which stock has had the greatest move ever\n",
    "    def stock_mostactive_ever(self):\n",
    "        max_change_ever = 0\n",
    "        for doc in self._collection.find():\n",
    "            date = doc[\"date\"]\n",
    "            max_stock, max_change = self.stock_mostactive_given_date(date)\n",
    "            if max_change_ever < max_change:\n",
    "                max_change_ever = max_change\n",
    "                max_stock_ever = max_stock\n",
    "                max_date_ever = date\n",
    "        return max_stock_ever, max_change_ever, max_date_ever"
   ]
  },
  {
   "cell_type": "code",
   "execution_count": 9,
   "metadata": {
    "collapsed": true
   },
   "outputs": [],
   "source": [
    "test = google_finance_sectors_interface()"
   ]
  },
  {
   "cell_type": "code",
   "execution_count": 10,
   "metadata": {},
   "outputs": [
    {
     "data": {
      "text/plain": [
       "('Energy', 1.03)"
      ]
     },
     "execution_count": 10,
     "metadata": {},
     "output_type": "execute_result"
    }
   ],
   "source": [
    "test.sector_greatest_move_given_date('2017-03-28')"
   ]
  },
  {
   "cell_type": "code",
   "execution_count": 11,
   "metadata": {},
   "outputs": [
    {
     "data": {
      "text/plain": [
       "('Energy', 1.03, '2017-03-28')"
      ]
     },
     "execution_count": 11,
     "metadata": {},
     "output_type": "execute_result"
    }
   ],
   "source": [
    "test.sector_greatest_move_ever()"
   ]
  },
  {
   "cell_type": "code",
   "execution_count": 12,
   "metadata": {},
   "outputs": [
    {
     "data": {
      "text/plain": [
       "('LML Payment Systems, Inc.', 633.43)"
      ]
     },
     "execution_count": 12,
     "metadata": {},
     "output_type": "execute_result"
    }
   ],
   "source": [
    "test.stock_greatest_move_given_date('2017-03-28')"
   ]
  },
  {
   "cell_type": "code",
   "execution_count": 13,
   "metadata": {},
   "outputs": [
    {
     "data": {
      "text/plain": [
       "('LML Payment Systems, Inc.', 633.43, '2017-03-28')"
      ]
     },
     "execution_count": 13,
     "metadata": {},
     "output_type": "execute_result"
    }
   ],
   "source": [
    "test.stock_greatest_move_ever()"
   ]
  },
  {
   "cell_type": "code",
   "execution_count": 14,
   "metadata": {},
   "outputs": [
    {
     "data": {
      "text/plain": [
       "[('2017-03-28', 0.88)]"
      ]
     },
     "execution_count": 14,
     "metadata": {},
     "output_type": "execute_result"
    }
   ],
   "source": [
    "test.sector_history('Financials')"
   ]
  },
  {
   "cell_type": "code",
   "execution_count": 15,
   "metadata": {},
   "outputs": [
    {
     "data": {
      "text/plain": [
       "('StoneMor Partners L.P.', -10.87)"
      ]
     },
     "execution_count": 15,
     "metadata": {},
     "output_type": "execute_result"
    }
   ],
   "source": [
    "test.stock_greatest_loss_given_date('2017-03-28')"
   ]
  },
  {
   "cell_type": "code",
   "execution_count": 16,
   "metadata": {},
   "outputs": [
    {
     "data": {
      "text/plain": [
       "('StoneMor Partners L.P.', -10.87, '2017-03-28')"
      ]
     },
     "execution_count": 16,
     "metadata": {},
     "output_type": "execute_result"
    }
   ],
   "source": [
    "test.stock_greatest_loss_ever()"
   ]
  },
  {
   "cell_type": "code",
   "execution_count": 17,
   "metadata": {},
   "outputs": [
    {
     "data": {
      "text/plain": [
       "('Tesla Inc', 2.68)"
      ]
     },
     "execution_count": 17,
     "metadata": {},
     "output_type": "execute_result"
    }
   ],
   "source": [
    "test.stock_mostactive_given_date('2017-03-28')"
   ]
  },
  {
   "cell_type": "code",
   "execution_count": 18,
   "metadata": {},
   "outputs": [
    {
     "data": {
      "text/plain": [
       "('Tesla Inc', 2.68, '2017-03-28')"
      ]
     },
     "execution_count": 18,
     "metadata": {},
     "output_type": "execute_result"
    }
   ],
   "source": [
    "test.stock_mostactive_ever()"
   ]
  }
 ],
 "metadata": {
  "anaconda-cloud": {},
  "kernelspec": {
   "display_name": "Python 3",
   "language": "python",
   "name": "python3"
  },
  "language_info": {
   "codemirror_mode": {
    "name": "ipython",
    "version": 3
   },
   "file_extension": ".py",
   "mimetype": "text/x-python",
   "name": "python",
   "nbconvert_exporter": "python",
   "pygments_lexer": "ipython3",
   "version": "3.6.1"
  }
 },
 "nbformat": 4,
 "nbformat_minor": 1
}
